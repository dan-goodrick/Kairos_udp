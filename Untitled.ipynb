{
 "cells": [
  {
   "cell_type": "code",
   "execution_count": 16,
   "metadata": {},
   "outputs": [],
   "source": [
    "string = '#|1.0|VEH_MHAFB1|CMD|123|45|56837|S,0|A,0|B,100|G,1|V,0|X,0,1,0,0,0,,,|Y,0,0,0,0,0,,,|Z,0,0,0,,,,,|C,XXX'"
   ]
  },
  {
   "cell_type": "code",
   "execution_count": 3,
   "metadata": {},
   "outputs": [
    {
     "data": {
      "text/plain": [
       "'#|1.0|VEH_MHAFB1|CMD|123|45|56837|S,0|A,0|B,100|G,1|V,0|X,0,1,0,0,0,,,|Y,0,0,0,0,0,,,|Z,0,0,0,,,,,|C,XXX'"
      ]
     },
     "execution_count": 3,
     "metadata": {},
     "output_type": "execute_result"
    }
   ],
   "source": [
    "string"
   ]
  },
  {
   "cell_type": "code",
   "execution_count": 5,
   "metadata": {},
   "outputs": [],
   "source": [
    "l = string.split('|')"
   ]
  },
  {
   "cell_type": "code",
   "execution_count": 17,
   "metadata": {},
   "outputs": [
    {
     "data": {
      "text/plain": [
       "['#',\n",
       " '1.0',\n",
       " 'VEH_MHAFB1',\n",
       " 'CMD',\n",
       " '123',\n",
       " '45',\n",
       " '56837',\n",
       " 'S,0',\n",
       " 'A,0',\n",
       " 'B,100',\n",
       " 'G,1',\n",
       " 'V,0',\n",
       " 'X,0,1,0,0,0,,,',\n",
       " 'Y,0,0,0,0,0,,,',\n",
       " 'Z,0,0,0,,,,,',\n",
       " 'C,XXX']"
      ]
     },
     "execution_count": 17,
     "metadata": {},
     "output_type": "execute_result"
    }
   ],
   "source": [
    "l"
   ]
  },
  {
   "cell_type": "code",
   "execution_count": 15,
   "metadata": {},
   "outputs": [
    {
     "data": {
      "text/plain": [
       "637"
      ]
     },
     "execution_count": 15,
     "metadata": {},
     "output_type": "execute_result"
    }
   ],
   "source": [
    "abs(hash(string)) % (10 ** 3)"
   ]
  },
  {
   "cell_type": "code",
   "execution_count": 18,
   "metadata": {},
   "outputs": [
    {
     "data": {
      "text/plain": [
       "6"
      ]
     },
     "execution_count": 18,
     "metadata": {},
     "output_type": "execute_result"
    }
   ],
   "source": [
    "n = len(l[-1])+1\n",
    "n"
   ]
  },
  {
   "cell_type": "code",
   "execution_count": 20,
   "metadata": {},
   "outputs": [
    {
     "data": {
      "text/plain": [
       "'#|1.0|VEH_MHAFB1|CMD|123|45|56837|S,0|A,0|B,100|G,1|V,0|X,0,1,0,0,0,,,|Y,0,0,0,0,0,,,|Z,0,0,0,,,,'"
      ]
     },
     "execution_count": 20,
     "metadata": {},
     "output_type": "execute_result"
    }
   ],
   "source": [
    "string[:-n-1]"
   ]
  },
  {
   "cell_type": "code",
   "execution_count": 34,
   "metadata": {},
   "outputs": [
    {
     "data": {
      "text/plain": [
       "82114113"
      ]
     },
     "execution_count": 34,
     "metadata": {},
     "output_type": "execute_result"
    }
   ],
   "source": [
    "from datetime import date\n",
    "import time\n",
    "\n",
    "int((time.time() - time.mktime(date.today().timetuple()))*1000)\n"
   ]
  },
  {
   "cell_type": "code",
   "execution_count": 37,
   "metadata": {},
   "outputs": [
    {
     "data": {
      "text/plain": [
       "'a,b'"
      ]
     },
     "execution_count": 37,
     "metadata": {},
     "output_type": "execute_result"
    }
   ],
   "source": [
    "','.join(['a','b'])"
   ]
  },
  {
   "cell_type": "code",
   "execution_count": 41,
   "metadata": {},
   "outputs": [],
   "source": [
    "msg = '#|1.0|VEH_MHAFB1|CMD|123|46|44132201|S,0|A,0|B,100|G,1|V,0|X,0,1,0,0,0,,,|Y,0,0,0,0,0,,,|Z,0,0,0,,,,,|C,'\n",
    "from mStreamingUDP import *"
   ]
  },
  {
   "cell_type": "code",
   "execution_count": 42,
   "metadata": {},
   "outputs": [
    {
     "data": {
      "text/plain": [
       "632"
      ]
     },
     "execution_count": 42,
     "metadata": {},
     "output_type": "execute_result"
    }
   ],
   "source": [
    "get_checksum(msg)\n"
   ]
  },
  {
   "cell_type": "code",
   "execution_count": 3,
   "metadata": {},
   "outputs": [],
   "source": [
    "from twisted.internet.protocol import DatagramProtocol\n",
    "from twisted.internet import reactor\n",
    "\n",
    "# Here's a UDP version of the simplest possible protocol\n",
    "class Serve_UDP(DatagramProtocol):\n",
    "    def datagramReceived(self, datagram, address):\n",
    "        print(datagram)\n",
    "        self.transport.write(datagram, address)\n",
    "\n",
    "def s_main():\n",
    "    reactor.listenUDP(8000, Serve_UDP())\n",
    "    reactor.run()"
   ]
  },
  {
   "cell_type": "code",
   "execution_count": 4,
   "metadata": {},
   "outputs": [],
   "source": [
    "from twisted.internet import reactor, protocol, task\n",
    "import time\n",
    "\n",
    "class UDP_Protocol(protocol.DatagramProtocol):\n",
    "    def __init__(self, host, port, reactor):\n",
    "        self.host = host\n",
    "        self.port = port\n",
    "        self._reactor = reactor\n",
    "        self.datagram = 'Hello_world'\n",
    "\n",
    "    def startProtocol(self):\n",
    "        self.transport.connect(self.host, self.port)\n",
    "\n",
    "    def stopProtocol(self):\n",
    "        #on disconnect\n",
    "        self._reactor.listenUDP(0, self)\n",
    "\n",
    "    def sendDatagram(self, datagram):\n",
    "        # datagram = 'Hello world'.encode() #ntp_packet\n",
    "        # self.datagram+='!'\n",
    "        try:\n",
    "            self.transport.write(datagram.encode(), (self.host, self.port))\n",
    "            # print( \"{:0.6f}\".format(time.time()))\n",
    "        except Exception as e:\n",
    "            print(e)\n",
    "            pass\n",
    "\n",
    "    def datagramReceived(self, datagram, host):\n",
    "        print('Datagram received: ', repr(datagram))\n",
    "        pass\n",
    "        # self.sendDatagram()\n",
    "\n",
    "def c_main():\n",
    "    protocol = UDP_Protocol('127.0.0.1', 8000, reactor)\n",
    "    t = reactor.listenUDP(0, protocol)\n",
    "    l = task.LoopingCall(protocol.sendDatagram)\n",
    "    l.start(1.0) # call every second\n",
    "    reactor.run()"
   ]
  },
  {
   "cell_type": "code",
   "execution_count": 5,
   "metadata": {},
   "outputs": [],
   "source": [
    "s_main()"
   ]
  },
  {
   "cell_type": "code",
   "execution_count": 6,
   "metadata": {},
   "outputs": [
    {
     "name": "stderr",
     "output_type": "stream",
     "text": [
      "Unhandled error in Deferred:\n",
      "\n",
      "Traceback (most recent call last):\n",
      "  File \"<ipython-input-6-976450761ad6>\", line 1, in <module>\n",
      "    c_main()\n",
      "  File \"<ipython-input-4-c4126a5062c6>\", line 37, in c_main\n",
      "    l.start(1.0) # call every second\n",
      "  File \"/Users/dan/anaconda3/lib/python3.7/site-packages/twisted/internet/task.py\", line 194, in start\n",
      "    self()\n",
      "  File \"/Users/dan/anaconda3/lib/python3.7/site-packages/twisted/internet/task.py\", line 239, in __call__\n",
      "    d = defer.maybeDeferred(self.f, *self.a, **self.kw)\n",
      "--- <exception caught here> ---\n",
      "  File \"/Users/dan/anaconda3/lib/python3.7/site-packages/twisted/internet/defer.py\", line 151, in maybeDeferred\n",
      "    result = f(*args, **kw)\n",
      "builtins.TypeError: sendDatagram() missing 1 required positional argument: 'datagram'\n",
      "\n"
     ]
    },
    {
     "ename": "ReactorNotRestartable",
     "evalue": "",
     "output_type": "error",
     "traceback": [
      "\u001b[0;31m---------------------------------------------------------------------------\u001b[0m",
      "\u001b[0;31mReactorNotRestartable\u001b[0m                     Traceback (most recent call last)",
      "\u001b[0;32m<ipython-input-6-976450761ad6>\u001b[0m in \u001b[0;36m<module>\u001b[0;34m\u001b[0m\n\u001b[0;32m----> 1\u001b[0;31m \u001b[0mc_main\u001b[0m\u001b[0;34m(\u001b[0m\u001b[0;34m)\u001b[0m\u001b[0;34m\u001b[0m\u001b[0;34m\u001b[0m\u001b[0m\n\u001b[0m",
      "\u001b[0;32m<ipython-input-4-c4126a5062c6>\u001b[0m in \u001b[0;36mc_main\u001b[0;34m()\u001b[0m\n\u001b[1;32m     36\u001b[0m     \u001b[0ml\u001b[0m \u001b[0;34m=\u001b[0m \u001b[0mtask\u001b[0m\u001b[0;34m.\u001b[0m\u001b[0mLoopingCall\u001b[0m\u001b[0;34m(\u001b[0m\u001b[0mprotocol\u001b[0m\u001b[0;34m.\u001b[0m\u001b[0msendDatagram\u001b[0m\u001b[0;34m)\u001b[0m\u001b[0;34m\u001b[0m\u001b[0;34m\u001b[0m\u001b[0m\n\u001b[1;32m     37\u001b[0m     \u001b[0ml\u001b[0m\u001b[0;34m.\u001b[0m\u001b[0mstart\u001b[0m\u001b[0;34m(\u001b[0m\u001b[0;36m1.0\u001b[0m\u001b[0;34m)\u001b[0m \u001b[0;31m# call every second\u001b[0m\u001b[0;34m\u001b[0m\u001b[0;34m\u001b[0m\u001b[0m\n\u001b[0;32m---> 38\u001b[0;31m     \u001b[0mreactor\u001b[0m\u001b[0;34m.\u001b[0m\u001b[0mrun\u001b[0m\u001b[0;34m(\u001b[0m\u001b[0;34m)\u001b[0m\u001b[0;34m\u001b[0m\u001b[0;34m\u001b[0m\u001b[0m\n\u001b[0m",
      "\u001b[0;32m~/anaconda3/lib/python3.7/site-packages/twisted/internet/base.py\u001b[0m in \u001b[0;36mrun\u001b[0;34m(self, installSignalHandlers)\u001b[0m\n\u001b[1;32m   1280\u001b[0m \u001b[0;34m\u001b[0m\u001b[0m\n\u001b[1;32m   1281\u001b[0m     \u001b[0;32mdef\u001b[0m \u001b[0mrun\u001b[0m\u001b[0;34m(\u001b[0m\u001b[0mself\u001b[0m\u001b[0;34m,\u001b[0m \u001b[0minstallSignalHandlers\u001b[0m\u001b[0;34m=\u001b[0m\u001b[0;32mTrue\u001b[0m\u001b[0;34m)\u001b[0m\u001b[0;34m:\u001b[0m\u001b[0;34m\u001b[0m\u001b[0;34m\u001b[0m\u001b[0m\n\u001b[0;32m-> 1282\u001b[0;31m         \u001b[0mself\u001b[0m\u001b[0;34m.\u001b[0m\u001b[0mstartRunning\u001b[0m\u001b[0;34m(\u001b[0m\u001b[0minstallSignalHandlers\u001b[0m\u001b[0;34m=\u001b[0m\u001b[0minstallSignalHandlers\u001b[0m\u001b[0;34m)\u001b[0m\u001b[0;34m\u001b[0m\u001b[0;34m\u001b[0m\u001b[0m\n\u001b[0m\u001b[1;32m   1283\u001b[0m         \u001b[0mself\u001b[0m\u001b[0;34m.\u001b[0m\u001b[0mmainLoop\u001b[0m\u001b[0;34m(\u001b[0m\u001b[0;34m)\u001b[0m\u001b[0;34m\u001b[0m\u001b[0;34m\u001b[0m\u001b[0m\n\u001b[1;32m   1284\u001b[0m \u001b[0;34m\u001b[0m\u001b[0m\n",
      "\u001b[0;32m~/anaconda3/lib/python3.7/site-packages/twisted/internet/base.py\u001b[0m in \u001b[0;36mstartRunning\u001b[0;34m(self, installSignalHandlers)\u001b[0m\n\u001b[1;32m   1260\u001b[0m         \"\"\"\n\u001b[1;32m   1261\u001b[0m         \u001b[0mself\u001b[0m\u001b[0;34m.\u001b[0m\u001b[0m_installSignalHandlers\u001b[0m \u001b[0;34m=\u001b[0m \u001b[0minstallSignalHandlers\u001b[0m\u001b[0;34m\u001b[0m\u001b[0;34m\u001b[0m\u001b[0m\n\u001b[0;32m-> 1262\u001b[0;31m         \u001b[0mReactorBase\u001b[0m\u001b[0;34m.\u001b[0m\u001b[0mstartRunning\u001b[0m\u001b[0;34m(\u001b[0m\u001b[0mself\u001b[0m\u001b[0;34m)\u001b[0m\u001b[0;34m\u001b[0m\u001b[0;34m\u001b[0m\u001b[0m\n\u001b[0m\u001b[1;32m   1263\u001b[0m \u001b[0;34m\u001b[0m\u001b[0m\n\u001b[1;32m   1264\u001b[0m \u001b[0;34m\u001b[0m\u001b[0m\n",
      "\u001b[0;32m~/anaconda3/lib/python3.7/site-packages/twisted/internet/base.py\u001b[0m in \u001b[0;36mstartRunning\u001b[0;34m(self)\u001b[0m\n\u001b[1;32m    763\u001b[0m             \u001b[0;32mraise\u001b[0m \u001b[0merror\u001b[0m\u001b[0;34m.\u001b[0m\u001b[0mReactorAlreadyRunning\u001b[0m\u001b[0;34m(\u001b[0m\u001b[0;34m)\u001b[0m\u001b[0;34m\u001b[0m\u001b[0;34m\u001b[0m\u001b[0m\n\u001b[1;32m    764\u001b[0m         \u001b[0;32mif\u001b[0m \u001b[0mself\u001b[0m\u001b[0;34m.\u001b[0m\u001b[0m_startedBefore\u001b[0m\u001b[0;34m:\u001b[0m\u001b[0;34m\u001b[0m\u001b[0;34m\u001b[0m\u001b[0m\n\u001b[0;32m--> 765\u001b[0;31m             \u001b[0;32mraise\u001b[0m \u001b[0merror\u001b[0m\u001b[0;34m.\u001b[0m\u001b[0mReactorNotRestartable\u001b[0m\u001b[0;34m(\u001b[0m\u001b[0;34m)\u001b[0m\u001b[0;34m\u001b[0m\u001b[0;34m\u001b[0m\u001b[0m\n\u001b[0m\u001b[1;32m    766\u001b[0m         \u001b[0mself\u001b[0m\u001b[0;34m.\u001b[0m\u001b[0m_started\u001b[0m \u001b[0;34m=\u001b[0m \u001b[0;32mTrue\u001b[0m\u001b[0;34m\u001b[0m\u001b[0;34m\u001b[0m\u001b[0m\n\u001b[1;32m    767\u001b[0m         \u001b[0mself\u001b[0m\u001b[0;34m.\u001b[0m\u001b[0m_stopped\u001b[0m \u001b[0;34m=\u001b[0m \u001b[0;32mFalse\u001b[0m\u001b[0;34m\u001b[0m\u001b[0;34m\u001b[0m\u001b[0m\n",
      "\u001b[0;31mReactorNotRestartable\u001b[0m: "
     ]
    }
   ],
   "source": [
    "c_main()"
   ]
  },
  {
   "cell_type": "code",
   "execution_count": 7,
   "metadata": {},
   "outputs": [
    {
     "data": {
      "text/plain": [
       "16"
      ]
     },
     "execution_count": 7,
     "metadata": {},
     "output_type": "execute_result"
    }
   ],
   "source": [
    "reactor.listenUDP("
   ]
  },
  {
   "cell_type": "code",
   "execution_count": 8,
   "metadata": {},
   "outputs": [],
   "source": [
    "from mStreamingUDP import *"
   ]
  },
  {
   "cell_type": "code",
   "execution_count": 1,
   "metadata": {},
   "outputs": [
    {
     "ename": "ModuleNotFoundError",
     "evalue": "No module named 'dash'",
     "output_type": "error",
     "traceback": [
      "\u001b[0;31m---------------------------------------------------------------------------\u001b[0m",
      "\u001b[0;31mModuleNotFoundError\u001b[0m                       Traceback (most recent call last)",
      "\u001b[0;32m<ipython-input-1-41ab4880e0b0>\u001b[0m in \u001b[0;36m<module>\u001b[0;34m\u001b[0m\n\u001b[0;32m----> 1\u001b[0;31m \u001b[0;32mimport\u001b[0m \u001b[0mdash\u001b[0m\u001b[0;34m\u001b[0m\u001b[0;34m\u001b[0m\u001b[0m\n\u001b[0m",
      "\u001b[0;31mModuleNotFoundError\u001b[0m: No module named 'dash'"
     ]
    }
   ],
   "source": [
    "import dash\n"
   ]
  },
  {
   "cell_type": "code",
   "execution_count": 3,
   "metadata": {},
   "outputs": [
    {
     "name": "stdout",
     "output_type": "stream",
     "text": [
      "Collecting dash\n",
      "  Downloading dash-1.11.0.tar.gz (64 kB)\n",
      "\u001b[K     |████████████████████████████████| 64 kB 1.2 MB/s eta 0:00:011\n",
      "\u001b[?25hRequirement already satisfied: Flask>=1.0.2 in /Users/dan/anaconda3/lib/python3.7/site-packages (from dash) (1.1.1)\n",
      "Collecting flask-compress\n",
      "  Using cached Flask-Compress-1.4.0.tar.gz (6.0 kB)\n",
      "Requirement already satisfied: plotly in /Users/dan/anaconda3/lib/python3.7/site-packages (from dash) (3.8.0)\n",
      "Collecting dash_renderer==1.4.0\n",
      "  Downloading dash_renderer-1.4.0.tar.gz (1.2 MB)\n",
      "\u001b[K     |████████████████████████████████| 1.2 MB 3.1 MB/s eta 0:00:01\n",
      "\u001b[?25hCollecting dash-core-components==1.9.1\n",
      "  Downloading dash_core_components-1.9.1.tar.gz (3.4 MB)\n",
      "\u001b[K     |████████████████████████████████| 3.4 MB 9.2 MB/s eta 0:00:01\n",
      "\u001b[?25hCollecting dash-html-components==1.0.3\n",
      "  Downloading dash_html_components-1.0.3.tar.gz (187 kB)\n",
      "\u001b[K     |████████████████████████████████| 187 kB 7.9 MB/s eta 0:00:01\n",
      "\u001b[?25hCollecting dash-table==4.6.2\n",
      "  Downloading dash_table-4.6.2.tar.gz (1.8 MB)\n",
      "\u001b[K     |████████████████████████████████| 1.8 MB 18.3 MB/s eta 0:00:01\n",
      "\u001b[?25hRequirement already satisfied: future in /Users/dan/anaconda3/lib/python3.7/site-packages (from dash) (0.18.2)\n",
      "Requirement already satisfied: Werkzeug>=0.15 in /Users/dan/anaconda3/lib/python3.7/site-packages (from Flask>=1.0.2->dash) (1.0.0)\n",
      "Requirement already satisfied: click>=5.1 in /Users/dan/anaconda3/lib/python3.7/site-packages (from Flask>=1.0.2->dash) (7.1.1)\n",
      "Requirement already satisfied: itsdangerous>=0.24 in /Users/dan/anaconda3/lib/python3.7/site-packages (from Flask>=1.0.2->dash) (1.1.0)\n",
      "Requirement already satisfied: Jinja2>=2.10.1 in /Users/dan/anaconda3/lib/python3.7/site-packages (from Flask>=1.0.2->dash) (2.11.1)\n",
      "Requirement already satisfied: nbformat>=4.2 in /Users/dan/anaconda3/lib/python3.7/site-packages (from plotly->dash) (5.0.4)\n",
      "Requirement already satisfied: pytz in /Users/dan/anaconda3/lib/python3.7/site-packages (from plotly->dash) (2019.3)\n",
      "Requirement already satisfied: retrying>=1.3.3 in /Users/dan/anaconda3/lib/python3.7/site-packages (from plotly->dash) (1.3.3)\n",
      "Requirement already satisfied: requests in /Users/dan/anaconda3/lib/python3.7/site-packages (from plotly->dash) (2.23.0)\n",
      "Requirement already satisfied: six in /Users/dan/anaconda3/lib/python3.7/site-packages (from plotly->dash) (1.14.0)\n",
      "Requirement already satisfied: decorator>=4.0.6 in /Users/dan/anaconda3/lib/python3.7/site-packages (from plotly->dash) (4.4.2)\n",
      "Requirement already satisfied: MarkupSafe>=0.23 in /Users/dan/anaconda3/lib/python3.7/site-packages (from Jinja2>=2.10.1->Flask>=1.0.2->dash) (1.1.1)\n",
      "Requirement already satisfied: jsonschema!=2.5.0,>=2.4 in /Users/dan/anaconda3/lib/python3.7/site-packages (from nbformat>=4.2->plotly->dash) (3.2.0)\n",
      "Requirement already satisfied: traitlets>=4.1 in /Users/dan/anaconda3/lib/python3.7/site-packages (from nbformat>=4.2->plotly->dash) (4.3.3)\n",
      "Requirement already satisfied: ipython-genutils in /Users/dan/anaconda3/lib/python3.7/site-packages (from nbformat>=4.2->plotly->dash) (0.2.0)\n",
      "Requirement already satisfied: jupyter-core in /Users/dan/anaconda3/lib/python3.7/site-packages (from nbformat>=4.2->plotly->dash) (4.6.3)\n",
      "Requirement already satisfied: idna<3,>=2.5 in /Users/dan/anaconda3/lib/python3.7/site-packages (from requests->plotly->dash) (2.9)\n",
      "Requirement already satisfied: certifi>=2017.4.17 in /Users/dan/anaconda3/lib/python3.7/site-packages (from requests->plotly->dash) (2019.11.28)\n",
      "Requirement already satisfied: chardet<4,>=3.0.2 in /Users/dan/anaconda3/lib/python3.7/site-packages (from requests->plotly->dash) (3.0.4)\n",
      "Requirement already satisfied: urllib3!=1.25.0,!=1.25.1,<1.26,>=1.21.1 in /Users/dan/anaconda3/lib/python3.7/site-packages (from requests->plotly->dash) (1.25.8)\n",
      "Requirement already satisfied: setuptools in /Users/dan/anaconda3/lib/python3.7/site-packages (from jsonschema!=2.5.0,>=2.4->nbformat>=4.2->plotly->dash) (46.1.3.post20200330)\n",
      "Requirement already satisfied: attrs>=17.4.0 in /Users/dan/anaconda3/lib/python3.7/site-packages (from jsonschema!=2.5.0,>=2.4->nbformat>=4.2->plotly->dash) (19.3.0)\n",
      "Requirement already satisfied: importlib-metadata; python_version < \"3.8\" in /Users/dan/anaconda3/lib/python3.7/site-packages (from jsonschema!=2.5.0,>=2.4->nbformat>=4.2->plotly->dash) (1.5.0)\n",
      "Requirement already satisfied: pyrsistent>=0.14.0 in /Users/dan/anaconda3/lib/python3.7/site-packages (from jsonschema!=2.5.0,>=2.4->nbformat>=4.2->plotly->dash) (0.16.0)\n",
      "Requirement already satisfied: zipp>=0.5 in /Users/dan/anaconda3/lib/python3.7/site-packages (from importlib-metadata; python_version < \"3.8\"->jsonschema!=2.5.0,>=2.4->nbformat>=4.2->plotly->dash) (3.1.0)\n",
      "Building wheels for collected packages: dash, flask-compress, dash-renderer, dash-core-components, dash-html-components, dash-table\n",
      "  Building wheel for dash (setup.py) ... \u001b[?25ldone\n",
      "\u001b[?25h  Created wheel for dash: filename=dash-1.11.0-py3-none-any.whl size=72525 sha256=49e54957c378acf60a41fa504c0ee093a74c9392a5343cb5b42af47f0c994111\n",
      "  Stored in directory: /Users/dan/Library/Caches/pip/wheels/2b/91/42/926cefc4e54c992a827bec9216f3f145278ee4e5d165a70dfb\n",
      "  Building wheel for flask-compress (setup.py) ... \u001b[?25ldone\n",
      "\u001b[?25h  Created wheel for flask-compress: filename=Flask_Compress-1.4.0-py3-none-any.whl size=3711 sha256=76cc00f7aba2f93ac96a93b255134c4af3c7701ac93a1e6af1b8793c77026638\n",
      "  Stored in directory: /Users/dan/Library/Caches/pip/wheels/1f/42/7e/72241359a71f5f9d4e97f55e6d4ac99939efaec4e1fa7b23b8\n",
      "  Building wheel for dash-renderer (setup.py) ... \u001b[?25ldone\n",
      "\u001b[?25h  Created wheel for dash-renderer: filename=dash_renderer-1.4.0-py3-none-any.whl size=1164166 sha256=ef2db2ec4cc3c94c29d6e5b4ef415ada54e947f4e08e3c892cc8e4b21985c35a\n",
      "  Stored in directory: /Users/dan/Library/Caches/pip/wheels/54/ff/2e/a92792032df69c50d27e17ee341ec4d18f8c9522b9bd188780\n",
      "  Building wheel for dash-core-components (setup.py) ... \u001b[?25ldone\n",
      "\u001b[?25h  Created wheel for dash-core-components: filename=dash_core_components-1.9.1-py3-none-any.whl size=3407354 sha256=1abf11267250c202e03651140017cd23a05db475ab7d68a4ad6049e81964a626\n",
      "  Stored in directory: /Users/dan/Library/Caches/pip/wheels/08/39/36/d9a493ce95806f487af1b84b7e5a2f1f756281ef6af31fb866\n",
      "  Building wheel for dash-html-components (setup.py) ... \u001b[?25ldone\n",
      "\u001b[?25h  Created wheel for dash-html-components: filename=dash_html_components-1.0.3-py3-none-any.whl size=427304 sha256=e65301889953d021daf20bb95dba5aabe64e71e5d3aa0744c4b7a401c160bb98\n",
      "  Stored in directory: /Users/dan/Library/Caches/pip/wheels/36/34/f9/c3d147461b28467d5bbd14d255be66f6728a1580ff9fbebece\n",
      "  Building wheel for dash-table (setup.py) ... \u001b[?25ldone\n",
      "\u001b[?25h  Created wheel for dash-table: filename=dash_table-4.6.2-py3-none-any.whl size=1769390 sha256=abb2959b68a594eca820145116f8060a2de4435fe9ed20b0176f659f97bfc091\n",
      "  Stored in directory: /Users/dan/Library/Caches/pip/wheels/ef/a3/4e/79f9a24e4f7481a680c71ea27b542dc8629d3090733f4e50cf\n",
      "Successfully built dash flask-compress dash-renderer dash-core-components dash-html-components dash-table\n",
      "Installing collected packages: flask-compress, dash-renderer, dash-core-components, dash-html-components, dash-table, dash\n",
      "Successfully installed dash-1.11.0 dash-core-components-1.9.1 dash-html-components-1.0.3 dash-renderer-1.4.0 dash-table-4.6.2 flask-compress-1.4.0\n",
      "Note: you may need to restart the kernel to use updated packages.\n"
     ]
    }
   ],
   "source": [
    "pip install dash"
   ]
  },
  {
   "cell_type": "code",
   "execution_count": 1,
   "metadata": {},
   "outputs": [],
   "source": [
    "import dash\n"
   ]
  },
  {
   "cell_type": "code",
   "execution_count": 2,
   "metadata": {},
   "outputs": [],
   "source": [
    "import tkinter"
   ]
  },
  {
   "cell_type": "code",
   "execution_count": 4,
   "metadata": {},
   "outputs": [
    {
     "ename": "KeyboardInterrupt",
     "evalue": "",
     "output_type": "error",
     "traceback": [
      "\u001b[0;31m---------------------------------------------------------------------------\u001b[0m",
      "\u001b[0;31mKeyboardInterrupt\u001b[0m                         Traceback (most recent call last)",
      "\u001b[0;32m<ipython-input-4-9503ccb90021>\u001b[0m in \u001b[0;36m<module>\u001b[0;34m\u001b[0m\n\u001b[1;32m      7\u001b[0m \u001b[0;34m\u001b[0m\u001b[0m\n\u001b[1;32m      8\u001b[0m \u001b[0;32mwhile\u001b[0m \u001b[0;32mTrue\u001b[0m\u001b[0;34m:\u001b[0m\u001b[0;34m\u001b[0m\u001b[0;34m\u001b[0m\u001b[0m\n\u001b[0;32m----> 9\u001b[0;31m     \u001b[0;32mif\u001b[0m \u001b[0mevents_list\u001b[0m \u001b[0;34m==\u001b[0m \u001b[0;34m[\u001b[0m\u001b[0;34m]\u001b[0m\u001b[0;34m:\u001b[0m\u001b[0;34m\u001b[0m\u001b[0;34m\u001b[0m\u001b[0m\n\u001b[0m\u001b[1;32m     10\u001b[0m         \u001b[0;32mcontinue\u001b[0m\u001b[0;34m\u001b[0m\u001b[0;34m\u001b[0m\u001b[0m\n\u001b[1;32m     11\u001b[0m     \u001b[0mevent\u001b[0m \u001b[0;34m=\u001b[0m \u001b[0mevents_list\u001b[0m\u001b[0;34m[\u001b[0m\u001b[0;36m0\u001b[0m\u001b[0;34m]\u001b[0m\u001b[0;34m\u001b[0m\u001b[0;34m\u001b[0m\u001b[0m\n",
      "\u001b[0;31mKeyboardInterrupt\u001b[0m: "
     ]
    }
   ],
   "source": [
    "events_list = []\n",
    "\n",
    "# Create an event handler\n",
    "def handle_keypress(event):\n",
    "    \"\"\"Print the character associated to the key pressed\"\"\"\n",
    "    print(event.char)\n",
    "\n",
    "while True:\n",
    "    if events_list == []:\n",
    "        continue\n",
    "    event = events_list[0]\n",
    "\n",
    "    # If event is a keypress event object\n",
    "    if event.type == \"keypress\":\n",
    "        # Call the keypress event handler\n",
    "        handle_keypress(event)"
   ]
  },
  {
   "cell_type": "code",
   "execution_count": 5,
   "metadata": {},
   "outputs": [],
   "source": [
    "import tkinter as tk\n",
    "\n",
    "window = tk.Tk()\n",
    "\n",
    "window.rowconfigure(0, minsize=50, weight=1)\n",
    "window.columnconfigure([0, 1, 2], minsize=50, weight=1)\n",
    "\n",
    "btn_decrease = tk.Button(master=window, text=\"-\")\n",
    "btn_decrease.grid(row=0, column=0, sticky=\"nsew\")\n",
    "\n",
    "lbl_value = tk.Label(master=window, text=\"0\")\n",
    "lbl_value.grid(row=0, column=1)\n",
    "\n",
    "btn_increase = tk.Button(master=window, text=\"+\")\n",
    "btn_increase.grid(row=0, column=2, sticky=\"nsew\")\n",
    "\n",
    "\n",
    "window.mainloop()"
   ]
  },
  {
   "cell_type": "code",
   "execution_count": 13,
   "metadata": {},
   "outputs": [
    {
     "name": "stdout",
     "output_type": "stream",
     "text": [
      "activebackground  -  systemButtonFacePressed\n",
      "activeforeground  -  systemPushButtonPressedText\n",
      "anchor  -  center\n",
      "background  -  White\n",
      "bd  -  2\n",
      "bg  -  White\n",
      "bitmap  -  \n",
      "borderwidth  -  2\n",
      "compound  -  none\n",
      "cursor  -  \n",
      "disabledforeground  -  #a3a3a3\n",
      "fg  -  systemButtonText\n",
      "font  -  TkDefaultFont\n",
      "foreground  -  systemButtonText\n",
      "height  -  0\n",
      "highlightbackground  -  White\n",
      "highlightcolor  -  systemButtonFrame\n",
      "highlightthickness  -  0\n",
      "image  -  \n",
      "justify  -  center\n",
      "padx  -  1\n",
      "pady  -  1\n",
      "relief  -  flat\n",
      "state  -  normal\n",
      "takefocus  -  0\n",
      "text  -  Hello\n",
      "textvariable  -  \n",
      "underline  -  -1\n",
      "width  -  0\n",
      "wraplength  -  0\n"
     ]
    }
   ],
   "source": [
    "label = tk.Label(text=\"Hello\")\n",
    "from pprint import pprint\n",
    "for k in label.keys():\n",
    "    print(k, ' - ',  label[k])"
   ]
  },
  {
   "cell_type": "code",
   "execution_count": 1,
   "metadata": {},
   "outputs": [
    {
     "data": {
      "text/plain": [
       "''"
      ]
     },
     "execution_count": 1,
     "metadata": {},
     "output_type": "execute_result"
    }
   ],
   "source": [
    "import tkinter as tk\n",
    "\n",
    "window = tk.Tk()\n",
    "window.title(\"Temperature Converter\")"
   ]
  },
  {
   "cell_type": "code",
   "execution_count": 1,
   "metadata": {},
   "outputs": [],
   "source": [
    "from collections import defaultdict"
   ]
  },
  {
   "cell_type": "code",
   "execution_count": 2,
   "metadata": {},
   "outputs": [],
   "source": [
    "d = defaultdict()"
   ]
  },
  {
   "cell_type": "code",
   "execution_count": 3,
   "metadata": {},
   "outputs": [],
   "source": [
    "d['ere'] = 4\n"
   ]
  },
  {
   "cell_type": "code",
   "execution_count": 4,
   "metadata": {},
   "outputs": [
    {
     "data": {
      "text/plain": [
       "defaultdict(None, {'ere': 4})"
      ]
     },
     "execution_count": 4,
     "metadata": {},
     "output_type": "execute_result"
    }
   ],
   "source": [
    "d"
   ]
  },
  {
   "cell_type": "code",
   "execution_count": 5,
   "metadata": {},
   "outputs": [],
   "source": [
    "d['red'] = 'lkjl'"
   ]
  },
  {
   "cell_type": "code",
   "execution_count": 6,
   "metadata": {},
   "outputs": [
    {
     "data": {
      "text/plain": [
       "defaultdict(None, {'ere': 4, 'red': 'lkjl'})"
      ]
     },
     "execution_count": 6,
     "metadata": {},
     "output_type": "execute_result"
    }
   ],
   "source": [
    "d"
   ]
  },
  {
   "cell_type": "code",
   "execution_count": 7,
   "metadata": {},
   "outputs": [
    {
     "ename": "TypeError",
     "evalue": "descriptor 'keys' of 'dict' object needs an argument",
     "output_type": "error",
     "traceback": [
      "\u001b[0;31m---------------------------------------------------------------------------\u001b[0m",
      "\u001b[0;31mTypeError\u001b[0m                                 Traceback (most recent call last)",
      "\u001b[0;32m<ipython-input-7-0ed938ebaf2d>\u001b[0m in \u001b[0;36m<module>\u001b[0;34m\u001b[0m\n\u001b[0;32m----> 1\u001b[0;31m \u001b[0mdefaultdict\u001b[0m\u001b[0;34m.\u001b[0m\u001b[0mkeys\u001b[0m\u001b[0;34m(\u001b[0m\u001b[0;34m)\u001b[0m\u001b[0;34m\u001b[0m\u001b[0;34m\u001b[0m\u001b[0m\n\u001b[0m",
      "\u001b[0;31mTypeError\u001b[0m: descriptor 'keys' of 'dict' object needs an argument"
     ]
    }
   ],
   "source": [
    "defaultdict.keys()"
   ]
  },
  {
   "cell_type": "code",
   "execution_count": 8,
   "metadata": {},
   "outputs": [
    {
     "data": {
      "text/plain": [
       "dict_keys(['ere', 'red'])"
      ]
     },
     "execution_count": 8,
     "metadata": {},
     "output_type": "execute_result"
    }
   ],
   "source": [
    "d.keys()"
   ]
  },
  {
   "cell_type": "code",
   "execution_count": 9,
   "metadata": {},
   "outputs": [
    {
     "data": {
      "text/plain": [
       "dict_items([('ere', 4), ('red', 'lkjl')])"
      ]
     },
     "execution_count": 9,
     "metadata": {},
     "output_type": "execute_result"
    }
   ],
   "source": [
    "d.items()"
   ]
  },
  {
   "cell_type": "code",
   "execution_count": 10,
   "metadata": {},
   "outputs": [
    {
     "data": {
      "text/plain": [
       "dict"
      ]
     },
     "execution_count": 10,
     "metadata": {},
     "output_type": "execute_result"
    }
   ],
   "source": [
    "d = {}\n",
    "type(d)"
   ]
  },
  {
   "cell_type": "code",
   "execution_count": 11,
   "metadata": {},
   "outputs": [],
   "source": [
    "strmDict = {'Brake': 100,\n",
    "            'Checksum': 'XXX',\n",
    "            'Mode_ProgressiveBrakingDisable': '0',\n",
    "            'Mode_ProgressiveSteeringDisable': '0',\n",
    "            'Mode_Reserved3': '',\n",
    "            'Mode_Reserved4': '',\n",
    "            'Mode_Reserved5': '',\n",
    "            'Mode_Reserved6': '',\n",
    "            'Mode_Reserved7': '',\n",
    "            'Mode_VelocityControlEnable': '0',\n",
    "            'Name': 'VEH_MHAFB1',\n",
    "            'Process_Operation': '0',\n",
    "            'Process_Reserved5': '',\n",
    "            'Process_Reserved6': '',\n",
    "            'Process_Reserved7': '',\n",
    "            'Process_Shutdown': '0',\n",
    "            'Process_Start': '0',\n",
    "            'Process_SteeringCal': '0',\n",
    "            'Process_TransShift': '0',\n",
    "            'Sequence': '45',\n",
    "            'Session': '123',\n",
    "            'State_Enable': '0',\n",
    "            'State_Estop': '0',\n",
    "            'State_L1': '0',\n",
    "            'State_L2': '',\n",
    "            'State_Manual': '0',\n",
    "            'State_Motion': '',\n",
    "            'State_Paused': '1',\n",
    "            'State_Reserved7': '',\n",
    "            'Steering': 0,\n",
    "            'Throttle': 0,\n",
    "            'TimeStamp': '56837',\n",
    "            'Trans': 1,\n",
    "            'Type': 'CMD',\n",
    "            'Valid': True,\n",
    "            'Velocity': 0,\n",
    "            'Version': '1.0'}"
   ]
  },
  {
   "cell_type": "code",
   "execution_count": 14,
   "metadata": {},
   "outputs": [
    {
     "data": {
      "text/plain": [
       "True"
      ]
     },
     "execution_count": 14,
     "metadata": {},
     "output_type": "execute_result"
    }
   ],
   "source": [
    "type(strmDict['Process']) == dict"
   ]
  },
  {
   "cell_type": "code",
   "execution_count": 31,
   "metadata": {},
   "outputs": [
    {
     "data": {
      "text/plain": [
       "3"
      ]
     },
     "execution_count": 31,
     "metadata": {},
     "output_type": "execute_result"
    }
   ],
   "source": [
    "7//2"
   ]
  },
  {
   "cell_type": "code",
   "execution_count": 33,
   "metadata": {},
   "outputs": [
    {
     "data": {
      "text/plain": [
       "2"
      ]
     },
     "execution_count": 33,
     "metadata": {},
     "output_type": "execute_result"
    }
   ],
   "source": [
    "15%13"
   ]
  },
  {
   "cell_type": "code",
   "execution_count": 19,
   "metadata": {},
   "outputs": [
    {
     "data": {
      "text/plain": [
       "8"
      ]
     },
     "execution_count": 19,
     "metadata": {},
     "output_type": "execute_result"
    }
   ],
   "source": [
    "len(strmDict)//2"
   ]
  },
  {
   "cell_type": "code",
   "execution_count": 20,
   "metadata": {},
   "outputs": [
    {
     "data": {
      "text/plain": [
       "7"
      ]
     },
     "execution_count": 20,
     "metadata": {},
     "output_type": "execute_result"
    }
   ],
   "source": [
    "15//2"
   ]
  },
  {
   "cell_type": "code",
   "execution_count": 23,
   "metadata": {},
   "outputs": [
    {
     "data": {
      "text/plain": [
       "1"
      ]
     },
     "execution_count": 23,
     "metadata": {},
     "output_type": "execute_result"
    }
   ],
   "source": [
    "15//((len(strmDict)+1)//2)"
   ]
  },
  {
   "cell_type": "code",
   "execution_count": 28,
   "metadata": {},
   "outputs": [
    {
     "data": {
      "text/plain": [
       "True"
      ]
     },
     "execution_count": 28,
     "metadata": {},
     "output_type": "execute_result"
    }
   ],
   "source": [
    "'Reserved' in 'Mode_Reserved3'"
   ]
  },
  {
   "cell_type": "code",
   "execution_count": null,
   "metadata": {},
   "outputs": [],
   "source": [
    "    def configure_msg(self, row_offset=5):\n",
    "        i = 1\n",
    "        for key in self.strmDict.keys():\n",
    "            if 'Reserved' in key:\n",
    "                continue\n",
    "            row_num = row_offset +i//2\n",
    "            col = (i%2)*2\n",
    "            i+=1\n",
    "            self.dict_labels[key] = tk.Label(self.root,text=f\"{key}:\", anchor=\"e\", width=self.w )\n",
    "            self.dict_labels[key].grid(column=col, row=row_num)\n",
    "            self.dict_fields[key] = tk.Entry(self.root,width=self.w )\n",
    "            self.dict_fields[key].insert(tk.END, self.strmDict[key])\n",
    "            self.dict_fields[key].grid(column=col+1, row=row_num)"
   ]
  }
 ],
 "metadata": {
  "kernelspec": {
   "display_name": "Python 3",
   "language": "python",
   "name": "python3"
  },
  "language_info": {
   "codemirror_mode": {
    "name": "ipython",
    "version": 3
   },
   "file_extension": ".py",
   "mimetype": "text/x-python",
   "name": "python",
   "nbconvert_exporter": "python",
   "pygments_lexer": "ipython3",
   "version": "3.7.3"
  }
 },
 "nbformat": 4,
 "nbformat_minor": 4
}
